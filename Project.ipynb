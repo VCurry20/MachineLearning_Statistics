{
 "cells": [
  {
   "cell_type": "markdown",
   "metadata": {},
   "source": [
    "# Project\n",
    "\n",
    "1. Create a notebook exploring classification algorithms applied on the Iris Flower Data set associated with Ronald A Fisher.\n",
    "2. In your notebook you should first explain what supervised learning is, and then explain what classification algorithms are.\n",
    "3. Describe at least one common classification algorithm and implement is using the Scikit-Learn Library.\n",
    "4. Throughout your notebook, use apporpriate plots, mathematical notation, and diagrams to explain the relevant concepts.\n",
    "\n",
    "\n",
    "\n",
    "## Iris Fisher\n",
    "\n",
    "- What is Iris Fisher\n",
    "- Why is it used\n",
    "- Fisher - Founder of Data Analysis\n",
    "\n",
    "\n",
    "## Supervised Learning \n",
    "\n",
    "- What is supervised learning\n",
    "- How / Where is it used?\n",
    "\n",
    "\n",
    "## Classification Algorithms\n",
    "\n",
    " - What is an Algorithm?\n",
    " - What are classification Algorithms?\n",
    " - What ones can be used on Iris Fisher?!?\n",
    " - List at least one - aim for 3?\n",
    "\n",
    "\n",
    "## Scikit learn Library\n",
    "\n",
    "- What are libraries?\n",
    "- What is Scikit Learn?\n",
    "- How is is different / better than others?\n",
    "- \n",
    "\n"
   ]
  },
  {
   "cell_type": "code",
   "execution_count": null,
   "metadata": {},
   "outputs": [],
   "source": []
  },
  {
   "cell_type": "code",
   "execution_count": null,
   "metadata": {},
   "outputs": [],
   "source": []
  },
  {
   "cell_type": "code",
   "execution_count": null,
   "metadata": {},
   "outputs": [],
   "source": []
  },
  {
   "cell_type": "code",
   "execution_count": null,
   "metadata": {},
   "outputs": [],
   "source": []
  },
  {
   "cell_type": "code",
   "execution_count": null,
   "metadata": {},
   "outputs": [],
   "source": []
  },
  {
   "cell_type": "code",
   "execution_count": null,
   "metadata": {},
   "outputs": [],
   "source": []
  },
  {
   "cell_type": "code",
   "execution_count": null,
   "metadata": {},
   "outputs": [],
   "source": []
  },
  {
   "cell_type": "code",
   "execution_count": null,
   "metadata": {},
   "outputs": [],
   "source": []
  },
  {
   "cell_type": "code",
   "execution_count": null,
   "metadata": {},
   "outputs": [],
   "source": []
  },
  {
   "cell_type": "code",
   "execution_count": null,
   "metadata": {},
   "outputs": [],
   "source": []
  },
  {
   "cell_type": "markdown",
   "metadata": {},
   "source": [
    "# Bibliography\n",
    "\n",
    "***\n",
    "[5] Git, main page, (2021) https://git-scm.com/ \n",
    "\n"
   ]
  }
 ],
 "metadata": {
  "language_info": {
   "name": "python"
  },
  "orig_nbformat": 4
 },
 "nbformat": 4,
 "nbformat_minor": 2
}
