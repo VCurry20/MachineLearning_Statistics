{
 "cells": [
  {
   "cell_type": "markdown",
   "metadata": {},
   "source": [
    "# Task Sheets\n",
    "\n",
    "Biweekly Task Sheet Submissions - Machine Learning and Statistics - Winter 2023 / 2024\n",
    "\n",
    "Lecturer Ian McLoughlin\n",
    "\n",
    "Task Sheet PDFs included in Supporting Data Folder\n",
    "\n",
    "***\n"
   ]
  },
  {
   "cell_type": "markdown",
   "metadata": {},
   "source": [
    "Tasks\n",
    "\n",
    "[Newtons Method](#taskone)\n",
    "\n",
    "[Chi-Squared](#tasktwo)\n",
    "\n",
    "[T-Test](#taskthree)\n",
    "\n",
    "[TBC](#taskfour)\n",
    "\n",
    "[TBC](#taskfive)\n",
    "\n"
   ]
  },
  {
   "cell_type": "markdown",
   "metadata": {},
   "source": [
    "****\n",
    "\n",
    "Imports"
   ]
  },
  {
   "cell_type": "code",
   "execution_count": 62,
   "metadata": {},
   "outputs": [],
   "source": [
    "# Using Python Packages this can also be achieve by the following:\n",
    "\n",
    "# maths\n",
    "import math\n",
    "\n",
    "# numerical arrays\n",
    "import numpy as np\n",
    "\n",
    "# dataframes\n",
    "import pandas as pd\n",
    "\n",
    "# from Scipy Stats - Contingency Chi Squared\n",
    "from scipy.stats import chi2_contingency\n",
    "\n",
    "# plotting\n",
    "import matplotlib.pyplot as plt\n",
    "\n",
    "# plotting\n",
    "import seaborn as sns\n",
    "\n",
    "# identifies distribution\n",
    "from fitter import Fitter, get_common_distributions, get_distributions\n"
   ]
  },
  {
   "cell_type": "markdown",
   "metadata": {},
   "source": [
    "<a id=\"taskone\"></a> \n",
    "\n",
    "## Newtons Method\n",
    "\n",
    "> Write a function $ sqrt (x) $ to approximate the square root of a floating point number $ x $ without using the power operator or a package.\n",
    "\n",
    "> Rather you should use Newton's method. Start with an initial guess for the square root called $ z_{0} $. You then repeatly improve it using the folowing formula, until the difference between a previous guess $ z_{i} $ and the next $ z_{i + 1} $ is less than some threshold for example 0.01.\n",
    "\n",
    "\n",
    "$$\n",
    "  z_{i + 1}  =  z_{i} - \\frac{ \\ z_{i}  *  z_{i} - x }{ 2z_{i} }\n",
    "$$\n",
    "\n",
    "\n",
    "<br/>\n",
    "\n",
    "\n",
    "T1 Q1 Links:\n",
    "\n",
    "[Go Programming language](https://go.dev/tour/welcome/1)\n",
    "\n",
    "[Loops and Functions in Go](https://go.dev/tour/flowcontrol/8)\n",
    "\n",
    "[Newton Sq Rt](https://math.mit.edu/~stevenj/18.335/newton-sqrt.pdf)\n",
    "\n",
    "\n",
    "[1][2][3][4][5]"
   ]
  },
  {
   "cell_type": "markdown",
   "metadata": {},
   "source": [
    "To test our function we will use test data - we will use data where we know the outcome and test that the program finds this answer.\n",
    "\n",
    "A Square root of a number is a value that when multipled by itself will give the original number. [6]\n",
    "\n",
    "Newtons Function asks us to start with a guess point and when the function is run repeatedly we get the result. As outlined in UT Calculus; \"In typical situations, Newton's method homes in on the answer extremely quickly, roughly doubling the number of decimal points in each round. So if your original guess is good to one decimal place, 5 rounds later you will have an answer good to 30+ digits.\" [7]\n",
    "\n",
    "Test Variables: To test the function we will look for the square root of 16, which we know to be 4. As as starting point we will guess 2 to be the correct answer. Using these variables / parameters we will run the function.\n",
    "\n",
    "Once we have confirmed that our function is working correctly and we have tested it we can then change variables and use it to calculate the square root of other numbers."
   ]
  },
  {
   "cell_type": "code",
   "execution_count": 2,
   "metadata": {},
   "outputs": [
    {
     "data": {
      "text/plain": [
       "4.0"
      ]
     },
     "execution_count": 2,
     "metadata": {},
     "output_type": "execute_result"
    }
   ],
   "source": [
    "# Alternative Options to Newtons Method:\n",
    "\n",
    "# python will allow you to work out the Square Root as following -\n",
    "\n",
    "16 ** 0.5\n",
    "\n",
    "\n",
    "# in this instance we are raising 16 to the power of 0.5 \n",
    "\n",
    "# [8]"
   ]
  },
  {
   "cell_type": "code",
   "execution_count": 3,
   "metadata": {},
   "outputs": [
    {
     "data": {
      "text/plain": [
       "4.0"
      ]
     },
     "execution_count": 3,
     "metadata": {},
     "output_type": "execute_result"
    }
   ],
   "source": [
    "# square root of the number 16\n",
    "math.sqrt(16) \n",
    "\n",
    "# for this page you cannot use a negative number - these will always be positive numbers\n",
    "# however for this Question we are using Newtons Method as opposed to power operators or packages.\n",
    "\n",
    "# [9]"
   ]
  },
  {
   "cell_type": "markdown",
   "metadata": {},
   "source": [
    "We will now plot the Equation - inputting our variables"
   ]
  },
  {
   "cell_type": "code",
   "execution_count": 4,
   "metadata": {},
   "outputs": [],
   "source": [
    "# Set x  - the number we want to calculate the square root of\n",
    "\n",
    "x = 16"
   ]
  },
  {
   "cell_type": "code",
   "execution_count": 5,
   "metadata": {},
   "outputs": [],
   "source": [
    "# Set z - this number is our initial guess or starting point for what we think the square root could be\n",
    "\n",
    "z = 2.0\n",
    "\n",
    "# note we are setting this as a floating number\n",
    "# unless the Square root is a full number, or perfect square, outcomes will be a floating point"
   ]
  },
  {
   "cell_type": "code",
   "execution_count": 6,
   "metadata": {},
   "outputs": [
    {
     "data": {
      "text/plain": [
       "5.0"
      ]
     },
     "execution_count": 6,
     "metadata": {},
     "output_type": "execute_result"
    }
   ],
   "source": [
    "# First Approximation\n",
    "\n",
    "\n",
    "znext = z - (((z * z) - x) / ( 2*z )) \n",
    "\n",
    "# setting a variable called znext - or our next guess\n",
    "# using Newtons formula above write a formula in Python\n",
    "# note 2z is written as 2*z in Python\n",
    "# precendence operators - ensures that multiplication before subtraction\n",
    "\n",
    "# znext equals, z minus the results of z multiplied by z minus x, divided by 2z (z * 2)\n",
    "\n",
    "znext\n",
    "\n",
    "# print znext"
   ]
  },
  {
   "cell_type": "markdown",
   "metadata": {},
   "source": [
    "Evaluation of first run:\n",
    "\n",
    "Is 5.0 a better approximation?\n",
    "\n",
    "Yes, 2 is 2 units away from 4, where as 5 is 1 unit away.\n",
    "\n",
    "Continuing to run this formula and you will get you closer to the required number 4. This shows the repeating nature of this formula and its importance in Machine Learning - this formula will more accurate with each time it is run further writing full functions will allow for us to set it to run with a error margain and also a maximum number of iterations."
   ]
  },
  {
   "cell_type": "code",
   "execution_count": 7,
   "metadata": {},
   "outputs": [],
   "source": [
    "# Write a formula to complete this process in one instance\n",
    "# the following is a version of Newton's method where we set the number of times where the funcion will run - 100 times\n",
    "\n",
    "def sqrt(x):\n",
    "    # initial guess for the sq rt\n",
    "    z = x / 4.0\n",
    "    # iteration is used in this function - this function is run 100 times - this can be set as a variable and run any number of times\n",
    "    for i in range(100):\n",
    "        # Newton's method for a better approximation.\n",
    "        z - (((z * z) - x) / ( 2*z )) \n",
    "\n",
    "\n",
    "    return z\n"
   ]
  },
  {
   "cell_type": "code",
   "execution_count": 8,
   "metadata": {},
   "outputs": [
    {
     "data": {
      "text/plain": [
       "4.0"
      ]
     },
     "execution_count": 8,
     "metadata": {},
     "output_type": "execute_result"
    }
   ],
   "source": [
    "# run the above function\n",
    "\n",
    "sqrt(16)"
   ]
  },
  {
   "cell_type": "markdown",
   "metadata": {},
   "source": [
    "In the above method we are using iteraiton and setting the number of times the function will run, in this instance we have set this for 100. What if we have a  number where to get the correct value we need to run the function 101 times?\n",
    "\n",
    "There for a while loop which would complete evaluations and continue to run while conditions are being met is a better version."
   ]
  },
  {
   "cell_type": "code",
   "execution_count": 9,
   "metadata": {},
   "outputs": [],
   "source": [
    "# here we use a while loop to continue to fun the formula while conditions are being met\n",
    "# We use both an approximate as a starting point and then incoropating the better guess from each time the code is run\n",
    "\n",
    "def while_sqrt(n):\n",
    "    approx=0.5*n\n",
    "    better=0.5*(approx+n/approx)\n",
    "    while better!=approx:\n",
    "        approx=better\n",
    "        better=0.5*(approx+n/approx)\n",
    "    return approx\n",
    "\n",
    "\n",
    "\n",
    "# [10]"
   ]
  },
  {
   "cell_type": "code",
   "execution_count": 10,
   "metadata": {},
   "outputs": [
    {
     "data": {
      "text/plain": [
       "4.0"
      ]
     },
     "execution_count": 10,
     "metadata": {},
     "output_type": "execute_result"
    }
   ],
   "source": [
    "# run the above function on our test number 16\n",
    "\n",
    "while_sqrt(16)"
   ]
  },
  {
   "cell_type": "code",
   "execution_count": 11,
   "metadata": {},
   "outputs": [
    {
     "data": {
      "text/plain": [
       "1.414213562373095"
      ]
     },
     "execution_count": 11,
     "metadata": {},
     "output_type": "execute_result"
    }
   ],
   "source": [
    "while_sqrt(2)"
   ]
  },
  {
   "cell_type": "markdown",
   "metadata": {},
   "source": [
    "![alternative text](Images/Newton-Raphson-Method.jpg)\n",
    "\n",
    "\n",
    "[11]"
   ]
  },
  {
   "cell_type": "markdown",
   "metadata": {},
   "source": [
    "## Additional Notes\n",
    "\n",
    "\n",
    "1. Limitations to this method are as follows \"the method is not efficient to calculate the roots of the polynomials or equations with higher degrees but in the case of small-degree equations, this method yields very quick results.\" [11]\n",
    "\n",
    "\n",
    "2. A alternative way to think of this method is that it is a way to find 0 (root) or the X intercept of a function:\n",
    "\n",
    "$$ f(x) = 0   -->  f(x) = 0 x^2 --> x^2 = 2 $$\n",
    "\n",
    "[12][13]\n",
    "\n",
    "3. Convergence rates can and will differ depending on our initial guess, convergences mean that we are approaching the answer [14] This is important for any implementation - both to know if it will be successful and also the time it takes to reach the correct answer. \n",
    "\n",
    "Example of convergence rates:\n",
    "\n",
    "Here we are looking for the square root of 2 - in this graph you will see the the function in blue and the derivative of this function in yellow:\n",
    "\n",
    "![alternative text](Images/Newton_root2_graph.jpg)\n",
    "\n",
    "<br/>\n",
    "\n",
    "Here we can see indicated both fast and slower convergence areas - high dots indication areas of slow convergence and low dots where there are areas of fast convengence. This shows the importance of the first guess and its impact on outcomes in terms of speed and relability.\n",
    "\n",
    "![alternative text](Images/Newtons_Convergence_root2.jpg)\n",
    "\n",
    "[12]\n",
    "\n",
    "Note:\n",
    "\"The derivative of a function describes the function's instantaneous rate of change at a certain point. Another common interpretation is that the derivative gives us the slope of the line tangent to the function's graph at that point.\" [15]\n",
    "\n",
    "\n",
    "<br/>\n",
    "\n",
    "Real World Uses??????????????\n",
    "\n"
   ]
  },
  {
   "cell_type": "markdown",
   "metadata": {},
   "source": [
    "***\n",
    "<a id=\"tasktwo\"></a> \n",
    "\n",
    "\n",
    "## Chi-squared\n",
    "\n",
    "\n",
    "\n",
    "\n",
    "\n",
    "\n",
    "> Consider a contingency table, based on a survey asking preferences between coffee or tea, and plain & chocolate biscuits.\n",
    "\n",
    "> Use scipy.stats to perform a chi-squared test to see whether there is any evidence of an association between drink preference and biscuit preference.\n",
    "\n",
    "\n",
    "              \n",
    "\n",
    "|             | *biscuits* Chocolate  | Plain   |\n",
    "| -:| -: | -: |\n",
    "| *Drink* Coffee|        43  |      57 |\n",
    "|       Tea   |        56  |      45 |\n",
    "\n",
    "\n"
   ]
  },
  {
   "cell_type": "markdown",
   "metadata": {},
   "source": [
    "<br/>\n",
    "\n",
    "What is a Chi=Square Test?\n",
    "\n",
    "\"The Chi-Square test is a statistical procedure for determining the difference between observed and expected data.\"\n",
    "\n",
    "\"This test can also be used to determine whether it (the difference) correlates to the categorical variables in our data. It helps to find out whether a difference between two categorical variables is due to chance or a relationship between them.\" [15]\n",
    "\n",
    "Formula for chi-square:\n",
    "\n",
    "$$\n",
    "\n",
    "  X ^2 = \\sum \\frac {  (O_{i} - E_{i})^2} { E_{i} }\n",
    "  \n",
    "$$\n",
    "\n",
    "\n",
    "\n",
    "$ X^2 $ = Chi-square value\n",
    "\n",
    "$ O_{i} $ = Observed Value\n",
    "\n",
    "$ E_{i} $ = Expected Value\n",
    "\n",
    "[16]\n",
    "\n",
    "<br/>\n",
    "\n",
    "\n",
    "$$\n",
    "\n",
    "  H_{0} \n",
    "  \n",
    "$$\n",
    "\n",
    "The Null Hypothesis\n",
    "\n",
    "The null hypothesis states that there is no association between the variables and therefore the variables are independent statisically speaking.\n",
    "\n",
    "When testing data, we start from a point of null - we start by thinking that there will be no correlation between the variables / numbers and by examining the data as a whole we hope to prove this null hypotesis incorrect, therefore proving that there is a relationship present.\n",
    "\n",
    "We use the Chi-Square test to compare the variables and the correlation between them.\n",
    "\n",
    "[17]\n",
    "\n",
    "<br/>\n",
    "\n"
   ]
  },
  {
   "cell_type": "markdown",
   "metadata": {},
   "source": [
    "Types of Chi-Squared Test\n",
    "\n",
    "The main types of chi-squared tests are Goodness to Fit tests and test of Independence.\n",
    "\n",
    "Goodness to Fit : \" The Chi-square goodness of fit test is a statistical hypothesis test used to determine whether a variable is likely to come from a specified distribution or not. It is often used to evaluate whether sample data is representative of the full population. \" [18]\n",
    "\n",
    "Test of Independance : \"The Chi-square test of independence is a statistical hypothesis test used to determine whether two categorical or nominal variables are likely to be related or not.\" [19]\n",
    "\n",
    "\n"
   ]
  },
  {
   "cell_type": "markdown",
   "metadata": {},
   "source": [
    "Comparison of Chi-Square Tests\n",
    "\n",
    "\n",
    "![alternative text](Images/Chi_sq_comparison.jpg)\n",
    "\n",
    "\n",
    "[20]\n",
    "<br/>"
   ]
  },
  {
   "cell_type": "markdown",
   "metadata": {},
   "source": [
    "Importance of contingency Table and understanding our Data\n",
    "\n",
    "<br/>\n",
    "\n",
    "\"A contingency table is a tabular representation of categorical data . A contingency table usually shows frequencies for particular combinations of values of two discrete random variable s X and Y. Each cell in the table represents a mutually exclusive combination of X-Y values.\" [21]\n",
    "\n",
    "A discrete random variable is one where a count has been obtained; where there is a countable value for X, for example the number of people who's favourite colour is red in a given population, the number of people at a concert.\n",
    "\n",
    "This allows us to ask definate questions and take definate measurements.\n",
    "\n",
    "[21][22]\n",
    "\n",
    "<br/>\n",
    "\n",
    "In the below table I have added in the totals which allows us to get a better picture of the data as a whole:\n",
    "\n",
    "\n",
    "\n",
    "|             | *biscuits* Chocolate  | Plain   | <span style=\"color:red\">Total </span>\n",
    "| -:| -: | -: |-: |\n",
    "| *Drink* Coffee|        43  |      57 | <span style=\"color:red\">    100 </span>|\n",
    "|       Tea   |        56  |      45 | <span style=\"color:red\">    101 </span>|\n",
    "| <span style=\"color:red\">    Total </span>  | <span style=\"color:red\">        99  </span>| <span style=\"color:red\">     102 </span>|  <span style=\"color:red\">   201 </span>|\n",
    "\n",
    "\n",
    "For this we can see we have taken a total sample of 99 People, who are Chocolate Biscuit eaters who drink either tea or coffee. There is a total number of 102 People who drink either tea or coffee and prefer plain biscuits. \n",
    "\n",
    "The total number of People who drink coffee are 100, and the total who drink tea are 101.\n",
    "\n",
    "A larger number of tea drinkers prefer chocolate biscuits while a larger number of coffee drinker prefer plain biscuits.\n",
    "\n",
    "Completing a chi-squared test will give us a better understanding of this data and if there is a correlation between the groups.\n",
    "\n",
    "Potential hypotesis:\n",
    "\n",
    "$ H_{0} $ ( First Hypothises) - That there is no correlation between the drink type and biscuit type\n",
    "\n",
    "$ H_{1} $ ( Second Hypothises) - That there is a correlation between the drink type and biscuit type\n",
    "\n",
    "\n",
    "\n",
    "[23]"
   ]
  },
  {
   "cell_type": "code",
   "execution_count": 12,
   "metadata": {},
   "outputs": [
    {
     "name": "stdout",
     "output_type": "stream",
     "text": [
      "Fail to reject Null Hypothesis\n",
      "Statistical Value:     2.6359\n",
      "p-value:            0.10447\n",
      "degrees of freedom: 1\n",
      "expected frequencies:\n",
      "[[49.25373134 50.74626866]\n",
      " [49.74626866 51.25373134]]\n"
     ]
    }
   ],
   "source": [
    "\n",
    "table = np.array([[43, 57],\n",
    "                  [56, 45]])\n",
    "\n",
    "chi2, p, dof, expected = chi2_contingency(table)\n",
    "\n",
    "if (p <= 0.05):\n",
    "    print(\"Reject the Null Hypotesis\")\n",
    "else:\n",
    "    print(\"Fail to reject Null Hypothesis\")\n",
    "\n",
    "print(f\"Statistical Value:     {chi2:.5g}\")\n",
    "print(f\"p-value:            {p:.5g}\")\n",
    "print(f\"degrees of freedom: {dof}\")\n",
    "print(\"expected frequencies:\")\n",
    "print(expected)\n",
    "\n",
    "\n",
    "\n",
    "# [24]"
   ]
  },
  {
   "cell_type": "markdown",
   "metadata": {},
   "source": [
    "When running scipy.stats.chi2_contingency in python the outputs will be; statistic (float), pvalue(float), dof (integer), experected_freq (numpy array - outputed to match shape of inputted data). [25]\n",
    "\n",
    "<br/>\n",
    "\n",
    "Terms explained:\n",
    "\n",
    "- significance level: This is the measure of the strength of the evidence that must be present before you can reject the null hypothesis, therefore before you can start that there is no correlation. [17] \"The significance level is a predetermined probability threshold - commonly 0.05\" [26]\n",
    "\n",
    "- Statistical Value:  \n",
    "\n",
    "- p-value: \"quantifies how strongly the sample data contradict the null hypothesis\", you can reject the null hypotesis by comparing the p-value to the signifcance level, where the pvalue is less than the significance level you can accept the null hypotesis. [17]\n",
    "\n",
    "![alternative text](Images/p_Value.jpg)\n",
    "\n",
    "[27]\n",
    "\n",
    "\n",
    "- degrees of freedom:\n",
    "\n",
    "- expected frequencies:"
   ]
  },
  {
   "cell_type": "markdown",
   "metadata": {},
   "source": [
    "note: A low p-value is evidence against the null hypothesis. In this case, the null hypothesis is that there is no association among the categories. A large discrepancy of the frequencies from the expected frequencies suggests that there is some sort of association or dependence. Roughly: large discrepancy ⇒ large chi-square statistic ⇒ small p-value.\n",
    "\n",
    "\n",
    "What is a low P Value?!"
   ]
  },
  {
   "cell_type": "markdown",
   "metadata": {},
   "source": [
    "|             | *biscuits* Chocolate  | Plain   | <span style=\"color:red\">Total </span>\n",
    "| -:| -: | -: |-: |\n",
    "| *Drink* Coffee|        43  |      57 | <span style=\"color:red\">    100 </span>|\n",
    "| Expected|        49.3  |      50.7 | <span style=\"color:green\">    49.7% </span>|\n",
    "|       Tea   |        56  |      45 | <span style=\"color:red\">    101 </span>|\n",
    "| Expected|        49.7 |      51.3 | <span style=\"color:green\">    50.3% </span>|\n",
    "| <span style=\"color:red\">    Total </span>  | <span style=\"color:red\">        99  </span>| <span style=\"color:red\">     102 </span>|  <span style=\"color:red\">   201 </span>|"
   ]
  },
  {
   "cell_type": "markdown",
   "metadata": {},
   "source": [
    "Conversely, when the p-value is greater than your significance level, you fail to reject the null hypothesis. The sample data provides insufficient data to conclude that the effect exists in the population.  (https://statisticsbyjim.com/hypothesis-testing/null-hypothesis/)"
   ]
  },
  {
   "cell_type": "code",
   "execution_count": 13,
   "metadata": {},
   "outputs": [
    {
     "name": "stdout",
     "output_type": "stream",
     "text": [
      "Reject the Null Hypotesis\n",
      "chi2 statistic:     24.571\n",
      "p-value:            0.00040984\n",
      "degrees of freedom: 6\n",
      "expected frequencies:\n",
      "[[ 80.53846154  80.53846154 107.38461538  80.53846154]\n",
      " [ 34.84615385  34.84615385  46.46153846  34.84615385]\n",
      " [ 34.61538462  34.61538462  46.15384615  34.61538462]]\n"
     ]
    }
   ],
   "source": [
    "\n",
    "table = np.array([[90, 60, 104, 95],\n",
    "                  [30, 50,  51, 20],\n",
    "                  [30, 40,  45, 35]])\n",
    "\n",
    "chi2, p, dof, expected = chi2_contingency(table)\n",
    "\n",
    "if (p <= 0.05):\n",
    "    print(\"Reject the Null Hypotesis\")\n",
    "else:\n",
    "    print(\"Fail to reject Null Hypotesis\")\n",
    "\n",
    "print(f\"chi2 statistic:     {chi2:.5g}\")\n",
    "print(f\"p-value:            {p:.5g}\")\n",
    "print(f\"degrees of freedom: {dof}\")\n",
    "print(\"expected frequencies:\")\n",
    "print(expected)"
   ]
  },
  {
   "cell_type": "code",
   "execution_count": null,
   "metadata": {},
   "outputs": [],
   "source": []
  },
  {
   "cell_type": "markdown",
   "metadata": {},
   "source": [
    "***\n",
    "\n",
    "<br/>\n",
    "\n",
    "<a id=\"taskthree\"></a>\n",
    "\n",
    "## T-Test\n",
    "\n",
    "\n",
    "> Perform a t-test on the famous penguins data set\n",
    "\n",
    "> Investigate whether there is evidence of signicant difference in the body and mass of male and female gentoo penguins\n",
    "\n",
    "links:\n"
   ]
  },
  {
   "cell_type": "markdown",
   "metadata": {},
   "source": [
    "First we will import the dataset using Pandas. We will look at the dataset to get a better idea of the data included."
   ]
  },
  {
   "cell_type": "code",
   "execution_count": 15,
   "metadata": {},
   "outputs": [
    {
     "data": {
      "text/html": [
       "<div>\n",
       "<style scoped>\n",
       "    .dataframe tbody tr th:only-of-type {\n",
       "        vertical-align: middle;\n",
       "    }\n",
       "\n",
       "    .dataframe tbody tr th {\n",
       "        vertical-align: top;\n",
       "    }\n",
       "\n",
       "    .dataframe thead th {\n",
       "        text-align: right;\n",
       "    }\n",
       "</style>\n",
       "<table border=\"1\" class=\"dataframe\">\n",
       "  <thead>\n",
       "    <tr style=\"text-align: right;\">\n",
       "      <th></th>\n",
       "      <th>species</th>\n",
       "      <th>island</th>\n",
       "      <th>bill_length_mm</th>\n",
       "      <th>bill_depth_mm</th>\n",
       "      <th>flipper_length_mm</th>\n",
       "      <th>body_mass_g</th>\n",
       "      <th>sex</th>\n",
       "    </tr>\n",
       "  </thead>\n",
       "  <tbody>\n",
       "    <tr>\n",
       "      <th>0</th>\n",
       "      <td>Adelie</td>\n",
       "      <td>Torgersen</td>\n",
       "      <td>39.1</td>\n",
       "      <td>18.7</td>\n",
       "      <td>181.0</td>\n",
       "      <td>3750.0</td>\n",
       "      <td>MALE</td>\n",
       "    </tr>\n",
       "    <tr>\n",
       "      <th>1</th>\n",
       "      <td>Adelie</td>\n",
       "      <td>Torgersen</td>\n",
       "      <td>39.5</td>\n",
       "      <td>17.4</td>\n",
       "      <td>186.0</td>\n",
       "      <td>3800.0</td>\n",
       "      <td>FEMALE</td>\n",
       "    </tr>\n",
       "    <tr>\n",
       "      <th>2</th>\n",
       "      <td>Adelie</td>\n",
       "      <td>Torgersen</td>\n",
       "      <td>40.3</td>\n",
       "      <td>18.0</td>\n",
       "      <td>195.0</td>\n",
       "      <td>3250.0</td>\n",
       "      <td>FEMALE</td>\n",
       "    </tr>\n",
       "    <tr>\n",
       "      <th>3</th>\n",
       "      <td>Adelie</td>\n",
       "      <td>Torgersen</td>\n",
       "      <td>NaN</td>\n",
       "      <td>NaN</td>\n",
       "      <td>NaN</td>\n",
       "      <td>NaN</td>\n",
       "      <td>NaN</td>\n",
       "    </tr>\n",
       "    <tr>\n",
       "      <th>4</th>\n",
       "      <td>Adelie</td>\n",
       "      <td>Torgersen</td>\n",
       "      <td>36.7</td>\n",
       "      <td>19.3</td>\n",
       "      <td>193.0</td>\n",
       "      <td>3450.0</td>\n",
       "      <td>FEMALE</td>\n",
       "    </tr>\n",
       "    <tr>\n",
       "      <th>...</th>\n",
       "      <td>...</td>\n",
       "      <td>...</td>\n",
       "      <td>...</td>\n",
       "      <td>...</td>\n",
       "      <td>...</td>\n",
       "      <td>...</td>\n",
       "      <td>...</td>\n",
       "    </tr>\n",
       "    <tr>\n",
       "      <th>339</th>\n",
       "      <td>Gentoo</td>\n",
       "      <td>Biscoe</td>\n",
       "      <td>NaN</td>\n",
       "      <td>NaN</td>\n",
       "      <td>NaN</td>\n",
       "      <td>NaN</td>\n",
       "      <td>NaN</td>\n",
       "    </tr>\n",
       "    <tr>\n",
       "      <th>340</th>\n",
       "      <td>Gentoo</td>\n",
       "      <td>Biscoe</td>\n",
       "      <td>46.8</td>\n",
       "      <td>14.3</td>\n",
       "      <td>215.0</td>\n",
       "      <td>4850.0</td>\n",
       "      <td>FEMALE</td>\n",
       "    </tr>\n",
       "    <tr>\n",
       "      <th>341</th>\n",
       "      <td>Gentoo</td>\n",
       "      <td>Biscoe</td>\n",
       "      <td>50.4</td>\n",
       "      <td>15.7</td>\n",
       "      <td>222.0</td>\n",
       "      <td>5750.0</td>\n",
       "      <td>MALE</td>\n",
       "    </tr>\n",
       "    <tr>\n",
       "      <th>342</th>\n",
       "      <td>Gentoo</td>\n",
       "      <td>Biscoe</td>\n",
       "      <td>45.2</td>\n",
       "      <td>14.8</td>\n",
       "      <td>212.0</td>\n",
       "      <td>5200.0</td>\n",
       "      <td>FEMALE</td>\n",
       "    </tr>\n",
       "    <tr>\n",
       "      <th>343</th>\n",
       "      <td>Gentoo</td>\n",
       "      <td>Biscoe</td>\n",
       "      <td>49.9</td>\n",
       "      <td>16.1</td>\n",
       "      <td>213.0</td>\n",
       "      <td>5400.0</td>\n",
       "      <td>MALE</td>\n",
       "    </tr>\n",
       "  </tbody>\n",
       "</table>\n",
       "<p>344 rows × 7 columns</p>\n",
       "</div>"
      ],
      "text/plain": [
       "    species     island  bill_length_mm  bill_depth_mm  flipper_length_mm  \\\n",
       "0    Adelie  Torgersen            39.1           18.7              181.0   \n",
       "1    Adelie  Torgersen            39.5           17.4              186.0   \n",
       "2    Adelie  Torgersen            40.3           18.0              195.0   \n",
       "3    Adelie  Torgersen             NaN            NaN                NaN   \n",
       "4    Adelie  Torgersen            36.7           19.3              193.0   \n",
       "..      ...        ...             ...            ...                ...   \n",
       "339  Gentoo     Biscoe             NaN            NaN                NaN   \n",
       "340  Gentoo     Biscoe            46.8           14.3              215.0   \n",
       "341  Gentoo     Biscoe            50.4           15.7              222.0   \n",
       "342  Gentoo     Biscoe            45.2           14.8              212.0   \n",
       "343  Gentoo     Biscoe            49.9           16.1              213.0   \n",
       "\n",
       "     body_mass_g     sex  \n",
       "0         3750.0    MALE  \n",
       "1         3800.0  FEMALE  \n",
       "2         3250.0  FEMALE  \n",
       "3            NaN     NaN  \n",
       "4         3450.0  FEMALE  \n",
       "..           ...     ...  \n",
       "339          NaN     NaN  \n",
       "340       4850.0  FEMALE  \n",
       "341       5750.0    MALE  \n",
       "342       5200.0  FEMALE  \n",
       "343       5400.0    MALE  \n",
       "\n",
       "[344 rows x 7 columns]"
      ]
     },
     "execution_count": 15,
     "metadata": {},
     "output_type": "execute_result"
    }
   ],
   "source": [
    "# import dataset\n",
    "df = pd.read_csv('DataSets/penguins.csv')\n",
    "\n",
    "df"
   ]
  },
  {
   "cell_type": "code",
   "execution_count": 34,
   "metadata": {},
   "outputs": [
    {
     "name": "stdout",
     "output_type": "stream",
     "text": [
      "<class 'pandas.core.frame.DataFrame'>\n",
      "RangeIndex: 344 entries, 0 to 343\n",
      "Data columns (total 7 columns):\n",
      " #   Column             Non-Null Count  Dtype  \n",
      "---  ------             --------------  -----  \n",
      " 0   species            344 non-null    object \n",
      " 1   island             344 non-null    object \n",
      " 2   bill_length_mm     342 non-null    float64\n",
      " 3   bill_depth_mm      342 non-null    float64\n",
      " 4   flipper_length_mm  342 non-null    float64\n",
      " 5   body_mass_g        342 non-null    float64\n",
      " 6   sex                333 non-null    object \n",
      "dtypes: float64(4), object(3)\n",
      "memory usage: 18.9+ KB\n"
     ]
    }
   ],
   "source": [
    "# get the data info - this is a general overview of the dataframe\n",
    "\n",
    "df.info()\n",
    "\n",
    "# we can see from this that there are between 344 - 333 entries so we have null values included\n",
    "# we can also see that we have two different data types - objects and floats = alternatively we can think of this as perhaps names / categories and number values\n"
   ]
  },
  {
   "cell_type": "code",
   "execution_count": 32,
   "metadata": {},
   "outputs": [
    {
     "data": {
      "text/html": [
       "<div>\n",
       "<style scoped>\n",
       "    .dataframe tbody tr th:only-of-type {\n",
       "        vertical-align: middle;\n",
       "    }\n",
       "\n",
       "    .dataframe tbody tr th {\n",
       "        vertical-align: top;\n",
       "    }\n",
       "\n",
       "    .dataframe thead th {\n",
       "        text-align: right;\n",
       "    }\n",
       "</style>\n",
       "<table border=\"1\" class=\"dataframe\">\n",
       "  <thead>\n",
       "    <tr style=\"text-align: right;\">\n",
       "      <th></th>\n",
       "      <th>species</th>\n",
       "      <th>island</th>\n",
       "      <th>bill_length_mm</th>\n",
       "      <th>bill_depth_mm</th>\n",
       "      <th>flipper_length_mm</th>\n",
       "      <th>body_mass_g</th>\n",
       "      <th>sex</th>\n",
       "    </tr>\n",
       "  </thead>\n",
       "  <tbody>\n",
       "    <tr>\n",
       "      <th>0</th>\n",
       "      <td>Adelie</td>\n",
       "      <td>Torgersen</td>\n",
       "      <td>39.1</td>\n",
       "      <td>18.7</td>\n",
       "      <td>181.0</td>\n",
       "      <td>3750.0</td>\n",
       "      <td>MALE</td>\n",
       "    </tr>\n",
       "    <tr>\n",
       "      <th>1</th>\n",
       "      <td>Adelie</td>\n",
       "      <td>Torgersen</td>\n",
       "      <td>39.5</td>\n",
       "      <td>17.4</td>\n",
       "      <td>186.0</td>\n",
       "      <td>3800.0</td>\n",
       "      <td>FEMALE</td>\n",
       "    </tr>\n",
       "    <tr>\n",
       "      <th>2</th>\n",
       "      <td>Adelie</td>\n",
       "      <td>Torgersen</td>\n",
       "      <td>40.3</td>\n",
       "      <td>18.0</td>\n",
       "      <td>195.0</td>\n",
       "      <td>3250.0</td>\n",
       "      <td>FEMALE</td>\n",
       "    </tr>\n",
       "    <tr>\n",
       "      <th>3</th>\n",
       "      <td>Adelie</td>\n",
       "      <td>Torgersen</td>\n",
       "      <td>NaN</td>\n",
       "      <td>NaN</td>\n",
       "      <td>NaN</td>\n",
       "      <td>NaN</td>\n",
       "      <td>NaN</td>\n",
       "    </tr>\n",
       "    <tr>\n",
       "      <th>4</th>\n",
       "      <td>Adelie</td>\n",
       "      <td>Torgersen</td>\n",
       "      <td>36.7</td>\n",
       "      <td>19.3</td>\n",
       "      <td>193.0</td>\n",
       "      <td>3450.0</td>\n",
       "      <td>FEMALE</td>\n",
       "    </tr>\n",
       "    <tr>\n",
       "      <th>5</th>\n",
       "      <td>Adelie</td>\n",
       "      <td>Torgersen</td>\n",
       "      <td>39.3</td>\n",
       "      <td>20.6</td>\n",
       "      <td>190.0</td>\n",
       "      <td>3650.0</td>\n",
       "      <td>MALE</td>\n",
       "    </tr>\n",
       "    <tr>\n",
       "      <th>6</th>\n",
       "      <td>Adelie</td>\n",
       "      <td>Torgersen</td>\n",
       "      <td>38.9</td>\n",
       "      <td>17.8</td>\n",
       "      <td>181.0</td>\n",
       "      <td>3625.0</td>\n",
       "      <td>FEMALE</td>\n",
       "    </tr>\n",
       "    <tr>\n",
       "      <th>7</th>\n",
       "      <td>Adelie</td>\n",
       "      <td>Torgersen</td>\n",
       "      <td>39.2</td>\n",
       "      <td>19.6</td>\n",
       "      <td>195.0</td>\n",
       "      <td>4675.0</td>\n",
       "      <td>MALE</td>\n",
       "    </tr>\n",
       "    <tr>\n",
       "      <th>8</th>\n",
       "      <td>Adelie</td>\n",
       "      <td>Torgersen</td>\n",
       "      <td>34.1</td>\n",
       "      <td>18.1</td>\n",
       "      <td>193.0</td>\n",
       "      <td>3475.0</td>\n",
       "      <td>NaN</td>\n",
       "    </tr>\n",
       "    <tr>\n",
       "      <th>9</th>\n",
       "      <td>Adelie</td>\n",
       "      <td>Torgersen</td>\n",
       "      <td>42.0</td>\n",
       "      <td>20.2</td>\n",
       "      <td>190.0</td>\n",
       "      <td>4250.0</td>\n",
       "      <td>NaN</td>\n",
       "    </tr>\n",
       "  </tbody>\n",
       "</table>\n",
       "</div>"
      ],
      "text/plain": [
       "  species     island  bill_length_mm  bill_depth_mm  flipper_length_mm  \\\n",
       "0  Adelie  Torgersen            39.1           18.7              181.0   \n",
       "1  Adelie  Torgersen            39.5           17.4              186.0   \n",
       "2  Adelie  Torgersen            40.3           18.0              195.0   \n",
       "3  Adelie  Torgersen             NaN            NaN                NaN   \n",
       "4  Adelie  Torgersen            36.7           19.3              193.0   \n",
       "5  Adelie  Torgersen            39.3           20.6              190.0   \n",
       "6  Adelie  Torgersen            38.9           17.8              181.0   \n",
       "7  Adelie  Torgersen            39.2           19.6              195.0   \n",
       "8  Adelie  Torgersen            34.1           18.1              193.0   \n",
       "9  Adelie  Torgersen            42.0           20.2              190.0   \n",
       "\n",
       "   body_mass_g     sex  \n",
       "0       3750.0    MALE  \n",
       "1       3800.0  FEMALE  \n",
       "2       3250.0  FEMALE  \n",
       "3          NaN     NaN  \n",
       "4       3450.0  FEMALE  \n",
       "5       3650.0    MALE  \n",
       "6       3625.0  FEMALE  \n",
       "7       4675.0    MALE  \n",
       "8       3475.0     NaN  \n",
       "9       4250.0     NaN  "
      ]
     },
     "execution_count": 32,
     "metadata": {},
     "output_type": "execute_result"
    }
   ],
   "source": [
    "df.head(10)\n",
    "\n",
    "# take the top ten rows and look at the df\n",
    "# from this we can see that there are entries with no values across the entire row\n"
   ]
  },
  {
   "cell_type": "code",
   "execution_count": 33,
   "metadata": {},
   "outputs": [
    {
     "data": {
      "text/plain": [
       "species\n",
       "Adelie       152\n",
       "Chinstrap     68\n",
       "Gentoo       124\n",
       "dtype: int64"
      ]
     },
     "execution_count": 33,
     "metadata": {},
     "output_type": "execute_result"
    }
   ],
   "source": [
    "# breakdown the file by species\n",
    "species = df.groupby(\"species\").size() \n",
    "\n",
    "species\n",
    "\n",
    "# three species are listed with a certain number for each\n",
    "# note the this breakdown is not equal to each species - ie there is not an even number of each\n"
   ]
  },
  {
   "cell_type": "code",
   "execution_count": 26,
   "metadata": {},
   "outputs": [
    {
     "data": {
      "text/plain": [
       "island\n",
       "Biscoe       168\n",
       "Dream        124\n",
       "Torgersen     52\n",
       "dtype: int64"
      ]
     },
     "execution_count": 26,
     "metadata": {},
     "output_type": "execute_result"
    }
   ],
   "source": [
    "# breakdown the file by Island\n",
    "islands = df.groupby(\"island\").size() \n",
    "\n",
    "islands\n",
    "# three islands are listed, again this number is different by island\n",
    "# also these numbers do not see to correspond or match the output above - is there is relationship between island and species?"
   ]
  },
  {
   "cell_type": "code",
   "execution_count": 36,
   "metadata": {},
   "outputs": [
    {
     "data": {
      "text/plain": [
       "sex\n",
       "FEMALE    165\n",
       "MALE      168\n",
       "dtype: int64"
      ]
     },
     "execution_count": 36,
     "metadata": {},
     "output_type": "execute_result"
    }
   ],
   "source": [
    "# breakdown the file by Sex\n",
    "sexes= df.groupby(\"sex\").size() \n",
    "\n",
    "sexes\n",
    "# we have two sexes listed and the n/a values are not included in this output\n",
    "# the total number shown here is 333 as opposed to 344 in other columns\n"
   ]
  },
  {
   "cell_type": "code",
   "execution_count": 39,
   "metadata": {},
   "outputs": [
    {
     "data": {
      "text/plain": [
       "species               0\n",
       "island                0\n",
       "bill_length_mm        2\n",
       "bill_depth_mm         2\n",
       "flipper_length_mm     2\n",
       "body_mass_g           2\n",
       "sex                  11\n",
       "dtype: int64"
      ]
     },
     "execution_count": 39,
     "metadata": {},
     "output_type": "execute_result"
    }
   ],
   "source": [
    "# we can look and see which columns have n/a values listed and how many there are\n",
    "\n",
    "missing_val = df.isin([pd.NA, np.nan, None, '-', 'N/A', 0]).sum()\n",
    "\n",
    "missing_val\n",
    "\n",
    "# https://stackoverflow.com/questions/74305111/how-to-count-missing-values-that-are-not-the-regular-missing-in-pandas\n",
    "\n",
    "# we can see from the below output that there are missing values or null values for bill length, dept, etc"
   ]
  },
  {
   "cell_type": "code",
   "execution_count": 44,
   "metadata": {},
   "outputs": [
    {
     "data": {
      "text/html": [
       "<div>\n",
       "<style scoped>\n",
       "    .dataframe tbody tr th:only-of-type {\n",
       "        vertical-align: middle;\n",
       "    }\n",
       "\n",
       "    .dataframe tbody tr th {\n",
       "        vertical-align: top;\n",
       "    }\n",
       "\n",
       "    .dataframe thead th {\n",
       "        text-align: right;\n",
       "    }\n",
       "</style>\n",
       "<table border=\"1\" class=\"dataframe\">\n",
       "  <thead>\n",
       "    <tr style=\"text-align: right;\">\n",
       "      <th></th>\n",
       "      <th>species</th>\n",
       "      <th>island</th>\n",
       "      <th>bill_length_mm</th>\n",
       "      <th>bill_depth_mm</th>\n",
       "      <th>flipper_length_mm</th>\n",
       "      <th>body_mass_g</th>\n",
       "      <th>sex</th>\n",
       "    </tr>\n",
       "  </thead>\n",
       "  <tbody>\n",
       "    <tr>\n",
       "      <th>220</th>\n",
       "      <td>Gentoo</td>\n",
       "      <td>Biscoe</td>\n",
       "      <td>46.1</td>\n",
       "      <td>13.2</td>\n",
       "      <td>211.0</td>\n",
       "      <td>4500.0</td>\n",
       "      <td>FEMALE</td>\n",
       "    </tr>\n",
       "    <tr>\n",
       "      <th>221</th>\n",
       "      <td>Gentoo</td>\n",
       "      <td>Biscoe</td>\n",
       "      <td>50.0</td>\n",
       "      <td>16.3</td>\n",
       "      <td>230.0</td>\n",
       "      <td>5700.0</td>\n",
       "      <td>MALE</td>\n",
       "    </tr>\n",
       "    <tr>\n",
       "      <th>222</th>\n",
       "      <td>Gentoo</td>\n",
       "      <td>Biscoe</td>\n",
       "      <td>48.7</td>\n",
       "      <td>14.1</td>\n",
       "      <td>210.0</td>\n",
       "      <td>4450.0</td>\n",
       "      <td>FEMALE</td>\n",
       "    </tr>\n",
       "    <tr>\n",
       "      <th>223</th>\n",
       "      <td>Gentoo</td>\n",
       "      <td>Biscoe</td>\n",
       "      <td>50.0</td>\n",
       "      <td>15.2</td>\n",
       "      <td>218.0</td>\n",
       "      <td>5700.0</td>\n",
       "      <td>MALE</td>\n",
       "    </tr>\n",
       "    <tr>\n",
       "      <th>224</th>\n",
       "      <td>Gentoo</td>\n",
       "      <td>Biscoe</td>\n",
       "      <td>47.6</td>\n",
       "      <td>14.5</td>\n",
       "      <td>215.0</td>\n",
       "      <td>5400.0</td>\n",
       "      <td>MALE</td>\n",
       "    </tr>\n",
       "    <tr>\n",
       "      <th>...</th>\n",
       "      <td>...</td>\n",
       "      <td>...</td>\n",
       "      <td>...</td>\n",
       "      <td>...</td>\n",
       "      <td>...</td>\n",
       "      <td>...</td>\n",
       "      <td>...</td>\n",
       "    </tr>\n",
       "    <tr>\n",
       "      <th>339</th>\n",
       "      <td>Gentoo</td>\n",
       "      <td>Biscoe</td>\n",
       "      <td>NaN</td>\n",
       "      <td>NaN</td>\n",
       "      <td>NaN</td>\n",
       "      <td>NaN</td>\n",
       "      <td>NaN</td>\n",
       "    </tr>\n",
       "    <tr>\n",
       "      <th>340</th>\n",
       "      <td>Gentoo</td>\n",
       "      <td>Biscoe</td>\n",
       "      <td>46.8</td>\n",
       "      <td>14.3</td>\n",
       "      <td>215.0</td>\n",
       "      <td>4850.0</td>\n",
       "      <td>FEMALE</td>\n",
       "    </tr>\n",
       "    <tr>\n",
       "      <th>341</th>\n",
       "      <td>Gentoo</td>\n",
       "      <td>Biscoe</td>\n",
       "      <td>50.4</td>\n",
       "      <td>15.7</td>\n",
       "      <td>222.0</td>\n",
       "      <td>5750.0</td>\n",
       "      <td>MALE</td>\n",
       "    </tr>\n",
       "    <tr>\n",
       "      <th>342</th>\n",
       "      <td>Gentoo</td>\n",
       "      <td>Biscoe</td>\n",
       "      <td>45.2</td>\n",
       "      <td>14.8</td>\n",
       "      <td>212.0</td>\n",
       "      <td>5200.0</td>\n",
       "      <td>FEMALE</td>\n",
       "    </tr>\n",
       "    <tr>\n",
       "      <th>343</th>\n",
       "      <td>Gentoo</td>\n",
       "      <td>Biscoe</td>\n",
       "      <td>49.9</td>\n",
       "      <td>16.1</td>\n",
       "      <td>213.0</td>\n",
       "      <td>5400.0</td>\n",
       "      <td>MALE</td>\n",
       "    </tr>\n",
       "  </tbody>\n",
       "</table>\n",
       "<p>124 rows × 7 columns</p>\n",
       "</div>"
      ],
      "text/plain": [
       "    species  island  bill_length_mm  bill_depth_mm  flipper_length_mm  \\\n",
       "220  Gentoo  Biscoe            46.1           13.2              211.0   \n",
       "221  Gentoo  Biscoe            50.0           16.3              230.0   \n",
       "222  Gentoo  Biscoe            48.7           14.1              210.0   \n",
       "223  Gentoo  Biscoe            50.0           15.2              218.0   \n",
       "224  Gentoo  Biscoe            47.6           14.5              215.0   \n",
       "..      ...     ...             ...            ...                ...   \n",
       "339  Gentoo  Biscoe             NaN            NaN                NaN   \n",
       "340  Gentoo  Biscoe            46.8           14.3              215.0   \n",
       "341  Gentoo  Biscoe            50.4           15.7              222.0   \n",
       "342  Gentoo  Biscoe            45.2           14.8              212.0   \n",
       "343  Gentoo  Biscoe            49.9           16.1              213.0   \n",
       "\n",
       "     body_mass_g     sex  \n",
       "220       4500.0  FEMALE  \n",
       "221       5700.0    MALE  \n",
       "222       4450.0  FEMALE  \n",
       "223       5700.0    MALE  \n",
       "224       5400.0    MALE  \n",
       "..           ...     ...  \n",
       "339          NaN     NaN  \n",
       "340       4850.0  FEMALE  \n",
       "341       5750.0    MALE  \n",
       "342       5200.0  FEMALE  \n",
       "343       5400.0    MALE  \n",
       "\n",
       "[124 rows x 7 columns]"
      ]
     },
     "execution_count": 44,
     "metadata": {},
     "output_type": "execute_result"
    }
   ],
   "source": [
    "# We will now have a closer look at the group we need for the T-Test\n",
    "\n",
    "# first we will take a subset - the Gentoo Pengiun Group\n",
    "\n",
    "gentoo = df.loc[df[\"species\"] ==\"Gentoo\"] \n",
    "\n",
    "gentoo\n"
   ]
  },
  {
   "cell_type": "code",
   "execution_count": 45,
   "metadata": {},
   "outputs": [
    {
     "data": {
      "text/plain": [
       "124"
      ]
     },
     "execution_count": 45,
     "metadata": {},
     "output_type": "execute_result"
    }
   ],
   "source": [
    "# check number of rows to see if they match with the earlier count of 124\n",
    "\n",
    "number_of_gentoo = len(gentoo)\n",
    "\n",
    "number_of_gentoo"
   ]
  },
  {
   "cell_type": "code",
   "execution_count": 49,
   "metadata": {},
   "outputs": [
    {
     "data": {
      "text/plain": [
       "species              0\n",
       "island               0\n",
       "bill_length_mm       1\n",
       "bill_depth_mm        1\n",
       "flipper_length_mm    1\n",
       "body_mass_g          1\n",
       "sex                  5\n",
       "dtype: int64"
      ]
     },
     "execution_count": 49,
     "metadata": {},
     "output_type": "execute_result"
    }
   ],
   "source": [
    "# check where our missing values are\n",
    "\n",
    "missing_val_gentoo = gentoo.isin([pd.NA, np.nan, None, '-', 'N/A', 0]).sum()\n",
    "\n",
    "missing_val_gentoo"
   ]
  },
  {
   "cell_type": "code",
   "execution_count": 50,
   "metadata": {},
   "outputs": [
    {
     "data": {
      "text/plain": [
       "sex\n",
       "FEMALE    58\n",
       "MALE      61\n",
       "dtype: int64"
      ]
     },
     "execution_count": 50,
     "metadata": {},
     "output_type": "execute_result"
    }
   ],
   "source": [
    "# check the breakdown of the sexes\n",
    "\n",
    "gentoo_sexes= gentoo.groupby(\"sex\").size() \n",
    "\n",
    "gentoo_sexes\n",
    "\n",
    "# we are missing 5 as above\n",
    "# 58 + 61 = 119\n",
    "\n",
    "# total entries are 124 \n",
    "# 124 - 5 = 119"
   ]
  },
  {
   "cell_type": "markdown",
   "metadata": {},
   "source": [
    "We have now a better understanding of the overall dataframe, and the Gentoo subset. We can see what is listed and also where the null values are.\n",
    "\n",
    "As we need to look at the body mass of male and female - however we know we are missing 5 entries.\n",
    "\n",
    "Lets look closer at these entries and see if there are body mass values listed"
   ]
  },
  {
   "cell_type": "code",
   "execution_count": 54,
   "metadata": {},
   "outputs": [
    {
     "data": {
      "text/html": [
       "<div>\n",
       "<style scoped>\n",
       "    .dataframe tbody tr th:only-of-type {\n",
       "        vertical-align: middle;\n",
       "    }\n",
       "\n",
       "    .dataframe tbody tr th {\n",
       "        vertical-align: top;\n",
       "    }\n",
       "\n",
       "    .dataframe thead th {\n",
       "        text-align: right;\n",
       "    }\n",
       "</style>\n",
       "<table border=\"1\" class=\"dataframe\">\n",
       "  <thead>\n",
       "    <tr style=\"text-align: right;\">\n",
       "      <th></th>\n",
       "      <th>species</th>\n",
       "      <th>body_mass_g</th>\n",
       "      <th>sex</th>\n",
       "    </tr>\n",
       "  </thead>\n",
       "  <tbody>\n",
       "    <tr>\n",
       "      <th>220</th>\n",
       "      <td>Gentoo</td>\n",
       "      <td>4500.0</td>\n",
       "      <td>FEMALE</td>\n",
       "    </tr>\n",
       "    <tr>\n",
       "      <th>221</th>\n",
       "      <td>Gentoo</td>\n",
       "      <td>5700.0</td>\n",
       "      <td>MALE</td>\n",
       "    </tr>\n",
       "    <tr>\n",
       "      <th>222</th>\n",
       "      <td>Gentoo</td>\n",
       "      <td>4450.0</td>\n",
       "      <td>FEMALE</td>\n",
       "    </tr>\n",
       "    <tr>\n",
       "      <th>223</th>\n",
       "      <td>Gentoo</td>\n",
       "      <td>5700.0</td>\n",
       "      <td>MALE</td>\n",
       "    </tr>\n",
       "    <tr>\n",
       "      <th>224</th>\n",
       "      <td>Gentoo</td>\n",
       "      <td>5400.0</td>\n",
       "      <td>MALE</td>\n",
       "    </tr>\n",
       "    <tr>\n",
       "      <th>...</th>\n",
       "      <td>...</td>\n",
       "      <td>...</td>\n",
       "      <td>...</td>\n",
       "    </tr>\n",
       "    <tr>\n",
       "      <th>339</th>\n",
       "      <td>Gentoo</td>\n",
       "      <td>NaN</td>\n",
       "      <td>NaN</td>\n",
       "    </tr>\n",
       "    <tr>\n",
       "      <th>340</th>\n",
       "      <td>Gentoo</td>\n",
       "      <td>4850.0</td>\n",
       "      <td>FEMALE</td>\n",
       "    </tr>\n",
       "    <tr>\n",
       "      <th>341</th>\n",
       "      <td>Gentoo</td>\n",
       "      <td>5750.0</td>\n",
       "      <td>MALE</td>\n",
       "    </tr>\n",
       "    <tr>\n",
       "      <th>342</th>\n",
       "      <td>Gentoo</td>\n",
       "      <td>5200.0</td>\n",
       "      <td>FEMALE</td>\n",
       "    </tr>\n",
       "    <tr>\n",
       "      <th>343</th>\n",
       "      <td>Gentoo</td>\n",
       "      <td>5400.0</td>\n",
       "      <td>MALE</td>\n",
       "    </tr>\n",
       "  </tbody>\n",
       "</table>\n",
       "<p>124 rows × 3 columns</p>\n",
       "</div>"
      ],
      "text/plain": [
       "    species  body_mass_g     sex\n",
       "220  Gentoo       4500.0  FEMALE\n",
       "221  Gentoo       5700.0    MALE\n",
       "222  Gentoo       4450.0  FEMALE\n",
       "223  Gentoo       5700.0    MALE\n",
       "224  Gentoo       5400.0    MALE\n",
       "..      ...          ...     ...\n",
       "339  Gentoo          NaN     NaN\n",
       "340  Gentoo       4850.0  FEMALE\n",
       "341  Gentoo       5750.0    MALE\n",
       "342  Gentoo       5200.0  FEMALE\n",
       "343  Gentoo       5400.0    MALE\n",
       "\n",
       "[124 rows x 3 columns]"
      ]
     },
     "execution_count": 54,
     "metadata": {},
     "output_type": "execute_result"
    }
   ],
   "source": [
    "# break the data down further to just the columns we need to complete the analysis\n",
    "# we need to penguin species, body mass, and the sec of the penguin\n",
    "\n",
    "gentoo_mass = gentoo[['species', 'body_mass_g', 'sex']]\n",
    "\n",
    "gentoo_mass\n",
    "\n",
    "# again 124 rows"
   ]
  },
  {
   "cell_type": "code",
   "execution_count": 57,
   "metadata": {},
   "outputs": [
    {
     "name": "stdout",
     "output_type": "stream",
     "text": [
      "    species  body_mass_g  sex\n",
      "246  Gentoo       4100.0  NaN\n",
      "286  Gentoo       4650.0  NaN\n",
      "324  Gentoo       4725.0  NaN\n",
      "336  Gentoo       4875.0  NaN\n",
      "339  Gentoo          NaN  NaN\n"
     ]
    }
   ],
   "source": [
    "# lets see how many have null values and where in the columns these null values sit\n",
    "\n",
    "null_mask = gentoo_mass.isnull().any(axis=1)\n",
    "null_rows = gentoo_mass[null_mask]\n",
    "\n",
    "print(null_rows)"
   ]
  },
  {
   "cell_type": "markdown",
   "metadata": {},
   "source": [
    "We can see from the output that there are 5 missing values from the Sex column, and one from the body_mass_g column. To complete this test we will need to ensure that these 5 columns are not included in the data.\n"
   ]
  },
  {
   "cell_type": "code",
   "execution_count": 61,
   "metadata": {},
   "outputs": [
    {
     "data": {
      "text/html": [
       "<div>\n",
       "<style scoped>\n",
       "    .dataframe tbody tr th:only-of-type {\n",
       "        vertical-align: middle;\n",
       "    }\n",
       "\n",
       "    .dataframe tbody tr th {\n",
       "        vertical-align: top;\n",
       "    }\n",
       "\n",
       "    .dataframe thead th {\n",
       "        text-align: right;\n",
       "    }\n",
       "</style>\n",
       "<table border=\"1\" class=\"dataframe\">\n",
       "  <thead>\n",
       "    <tr style=\"text-align: right;\">\n",
       "      <th></th>\n",
       "      <th>species</th>\n",
       "      <th>body_mass_g</th>\n",
       "      <th>sex</th>\n",
       "    </tr>\n",
       "  </thead>\n",
       "  <tbody>\n",
       "    <tr>\n",
       "      <th>220</th>\n",
       "      <td>Gentoo</td>\n",
       "      <td>4500.0</td>\n",
       "      <td>FEMALE</td>\n",
       "    </tr>\n",
       "    <tr>\n",
       "      <th>222</th>\n",
       "      <td>Gentoo</td>\n",
       "      <td>4450.0</td>\n",
       "      <td>FEMALE</td>\n",
       "    </tr>\n",
       "    <tr>\n",
       "      <th>225</th>\n",
       "      <td>Gentoo</td>\n",
       "      <td>4550.0</td>\n",
       "      <td>FEMALE</td>\n",
       "    </tr>\n",
       "    <tr>\n",
       "      <th>226</th>\n",
       "      <td>Gentoo</td>\n",
       "      <td>4800.0</td>\n",
       "      <td>FEMALE</td>\n",
       "    </tr>\n",
       "    <tr>\n",
       "      <th>228</th>\n",
       "      <td>Gentoo</td>\n",
       "      <td>4400.0</td>\n",
       "      <td>FEMALE</td>\n",
       "    </tr>\n",
       "    <tr>\n",
       "      <th>230</th>\n",
       "      <td>Gentoo</td>\n",
       "      <td>4650.0</td>\n",
       "      <td>FEMALE</td>\n",
       "    </tr>\n",
       "    <tr>\n",
       "      <th>232</th>\n",
       "      <td>Gentoo</td>\n",
       "      <td>4650.0</td>\n",
       "      <td>FEMALE</td>\n",
       "    </tr>\n",
       "    <tr>\n",
       "      <th>234</th>\n",
       "      <td>Gentoo</td>\n",
       "      <td>4200.0</td>\n",
       "      <td>FEMALE</td>\n",
       "    </tr>\n",
       "    <tr>\n",
       "      <th>236</th>\n",
       "      <td>Gentoo</td>\n",
       "      <td>4150.0</td>\n",
       "      <td>FEMALE</td>\n",
       "    </tr>\n",
       "    <tr>\n",
       "      <th>238</th>\n",
       "      <td>Gentoo</td>\n",
       "      <td>4800.0</td>\n",
       "      <td>FEMALE</td>\n",
       "    </tr>\n",
       "  </tbody>\n",
       "</table>\n",
       "</div>"
      ],
      "text/plain": [
       "    species  body_mass_g     sex\n",
       "220  Gentoo       4500.0  FEMALE\n",
       "222  Gentoo       4450.0  FEMALE\n",
       "225  Gentoo       4550.0  FEMALE\n",
       "226  Gentoo       4800.0  FEMALE\n",
       "228  Gentoo       4400.0  FEMALE\n",
       "230  Gentoo       4650.0  FEMALE\n",
       "232  Gentoo       4650.0  FEMALE\n",
       "234  Gentoo       4200.0  FEMALE\n",
       "236  Gentoo       4150.0  FEMALE\n",
       "238  Gentoo       4800.0  FEMALE"
      ]
     },
     "execution_count": 61,
     "metadata": {},
     "output_type": "execute_result"
    }
   ],
   "source": [
    "gentoo_female = gentoo_mass.loc[df[\"sex\"] ==\"FEMALE\"] \n",
    "\n",
    "gentoo_female.head(10)"
   ]
  },
  {
   "cell_type": "code",
   "execution_count": 60,
   "metadata": {},
   "outputs": [
    {
     "data": {
      "text/html": [
       "<div>\n",
       "<style scoped>\n",
       "    .dataframe tbody tr th:only-of-type {\n",
       "        vertical-align: middle;\n",
       "    }\n",
       "\n",
       "    .dataframe tbody tr th {\n",
       "        vertical-align: top;\n",
       "    }\n",
       "\n",
       "    .dataframe thead th {\n",
       "        text-align: right;\n",
       "    }\n",
       "</style>\n",
       "<table border=\"1\" class=\"dataframe\">\n",
       "  <thead>\n",
       "    <tr style=\"text-align: right;\">\n",
       "      <th></th>\n",
       "      <th>species</th>\n",
       "      <th>body_mass_g</th>\n",
       "      <th>sex</th>\n",
       "    </tr>\n",
       "  </thead>\n",
       "  <tbody>\n",
       "    <tr>\n",
       "      <th>221</th>\n",
       "      <td>Gentoo</td>\n",
       "      <td>5700.0</td>\n",
       "      <td>MALE</td>\n",
       "    </tr>\n",
       "    <tr>\n",
       "      <th>223</th>\n",
       "      <td>Gentoo</td>\n",
       "      <td>5700.0</td>\n",
       "      <td>MALE</td>\n",
       "    </tr>\n",
       "    <tr>\n",
       "      <th>224</th>\n",
       "      <td>Gentoo</td>\n",
       "      <td>5400.0</td>\n",
       "      <td>MALE</td>\n",
       "    </tr>\n",
       "    <tr>\n",
       "      <th>227</th>\n",
       "      <td>Gentoo</td>\n",
       "      <td>5200.0</td>\n",
       "      <td>MALE</td>\n",
       "    </tr>\n",
       "    <tr>\n",
       "      <th>229</th>\n",
       "      <td>Gentoo</td>\n",
       "      <td>5150.0</td>\n",
       "      <td>MALE</td>\n",
       "    </tr>\n",
       "    <tr>\n",
       "      <th>...</th>\n",
       "      <td>...</td>\n",
       "      <td>...</td>\n",
       "      <td>...</td>\n",
       "    </tr>\n",
       "    <tr>\n",
       "      <th>333</th>\n",
       "      <td>Gentoo</td>\n",
       "      <td>5500.0</td>\n",
       "      <td>MALE</td>\n",
       "    </tr>\n",
       "    <tr>\n",
       "      <th>335</th>\n",
       "      <td>Gentoo</td>\n",
       "      <td>5850.0</td>\n",
       "      <td>MALE</td>\n",
       "    </tr>\n",
       "    <tr>\n",
       "      <th>337</th>\n",
       "      <td>Gentoo</td>\n",
       "      <td>6000.0</td>\n",
       "      <td>MALE</td>\n",
       "    </tr>\n",
       "    <tr>\n",
       "      <th>341</th>\n",
       "      <td>Gentoo</td>\n",
       "      <td>5750.0</td>\n",
       "      <td>MALE</td>\n",
       "    </tr>\n",
       "    <tr>\n",
       "      <th>343</th>\n",
       "      <td>Gentoo</td>\n",
       "      <td>5400.0</td>\n",
       "      <td>MALE</td>\n",
       "    </tr>\n",
       "  </tbody>\n",
       "</table>\n",
       "<p>61 rows × 3 columns</p>\n",
       "</div>"
      ],
      "text/plain": [
       "    species  body_mass_g   sex\n",
       "221  Gentoo       5700.0  MALE\n",
       "223  Gentoo       5700.0  MALE\n",
       "224  Gentoo       5400.0  MALE\n",
       "227  Gentoo       5200.0  MALE\n",
       "229  Gentoo       5150.0  MALE\n",
       "..      ...          ...   ...\n",
       "333  Gentoo       5500.0  MALE\n",
       "335  Gentoo       5850.0  MALE\n",
       "337  Gentoo       6000.0  MALE\n",
       "341  Gentoo       5750.0  MALE\n",
       "343  Gentoo       5400.0  MALE\n",
       "\n",
       "[61 rows x 3 columns]"
      ]
     },
     "execution_count": 60,
     "metadata": {},
     "output_type": "execute_result"
    }
   ],
   "source": [
    "gentoo_male = gentoo_mass.loc[df[\"sex\"] ==\"MALE\"] \n",
    "\n",
    "gentoo_male"
   ]
  },
  {
   "cell_type": "code",
   "execution_count": 67,
   "metadata": {},
   "outputs": [
    {
     "data": {
      "image/png": "[encoded data removed]",
      "text/plain": [
       "<Figure size 1200x600 with 1 Axes>"
      ]
     },
     "metadata": {},
     "output_type": "display_data"
    }
   ],
   "source": [
    "# Prior to running the test lets plot these groups and see where they land\n",
    "\n",
    "sample_f = gentoo_female[gentoo_female['species'] == 'Gentoo']['body_mass_g'].to_numpy()\n",
    "sample_m = gentoo_male[gentoo_male['species'] == 'Gentoo']['body_mass_g'].to_numpy()\n",
    "\n",
    "\n",
    "# Plot and Compare Samples\n",
    "\n",
    "# set data\n",
    "data = [ sample_f, sample_m]\n",
    " \n",
    "# set plot\n",
    "fig = plt.figure(figsize =(12, 6))\n",
    " \n",
    "# Creating axes instance\n",
    "ax = fig.add_axes([0, 0, 1, 1])\n",
    " \n",
    "# Creating plot\n",
    "bp = ax.boxplot(data)\n",
    " \n",
    "# show plot\n",
    "plt.show()"
   ]
  },
  {
   "cell_type": "code",
   "execution_count": 68,
   "metadata": {},
   "outputs": [
    {
     "data": {
      "text/plain": [
       "4679.741379310345"
      ]
     },
     "execution_count": 68,
     "metadata": {},
     "output_type": "execute_result"
    }
   ],
   "source": [
    "# get the mean of the female body mass\n",
    "sample_f.mean()"
   ]
  },
  {
   "cell_type": "code",
   "execution_count": 71,
   "metadata": {},
   "outputs": [
    {
     "data": {
      "text/plain": [
       "5484.836065573771"
      ]
     },
     "execution_count": 71,
     "metadata": {},
     "output_type": "execute_result"
    }
   ],
   "source": [
    "# get the mean of the male body mass \n",
    "sample_m.mean()"
   ]
  },
  {
   "cell_type": "code",
   "execution_count": 86,
   "metadata": {},
   "outputs": [],
   "source": [
    "mass_f = gentoo_female [['body_mass_g',]]\n",
    "\n",
    "#mass_f"
   ]
  },
  {
   "cell_type": "code",
   "execution_count": 89,
   "metadata": {},
   "outputs": [],
   "source": [
    "mass_m = gentoo_male [['body_mass_g',]]\n",
    "\n",
    "#mass_m"
   ]
  },
  {
   "cell_type": "code",
   "execution_count": 101,
   "metadata": {},
   "outputs": [],
   "source": [
    "def normal_pdf(x, mu=0.0, sigma=1.0):\n",
    "    # Answer: A*B\n",
    "    A = 1.0 / (sigma * np.sqrt(2.0 * np.pi))\n",
    "    B = np.exp(- 0.5 * ((x - mu) / sigma) **2)\n",
    "\n",
    "    return A*B"
   ]
  },
  {
   "cell_type": "code",
   "execution_count": 110,
   "metadata": {},
   "outputs": [
    {
     "data": {
      "text/plain": [
       "array([<Axes: title={'center': 'body_mass_g'}>], dtype=object)"
      ]
     },
     "execution_count": 110,
     "metadata": {},
     "output_type": "execute_result"
    },
    {
     "data": {
      "image/png": "[encoded data removed]",
      "text/plain": [
       "<Figure size 640x480 with 2 Axes>"
      ]
     },
     "metadata": {},
     "output_type": "display_data"
    }
   ],
   "source": [
    "fig, axes = plt.subplots(1, 2)\n",
    "\n",
    "mass_f.hist(bins=50, ax=axes[0], density=True)\n",
    "mass_m.hist(bins=50, ax=axes[1], density=True)\n",
    "\n"
   ]
  },
  {
   "cell_type": "code",
   "execution_count": null,
   "metadata": {},
   "outputs": [],
   "source": []
  },
  {
   "cell_type": "code",
   "execution_count": null,
   "metadata": {},
   "outputs": [],
   "source": []
  },
  {
   "cell_type": "code",
   "execution_count": null,
   "metadata": {},
   "outputs": [],
   "source": []
  },
  {
   "cell_type": "code",
   "execution_count": null,
   "metadata": {},
   "outputs": [],
   "source": []
  },
  {
   "cell_type": "code",
   "execution_count": null,
   "metadata": {},
   "outputs": [],
   "source": []
  },
  {
   "cell_type": "code",
   "execution_count": null,
   "metadata": {},
   "outputs": [],
   "source": []
  },
  {
   "cell_type": "code",
   "execution_count": null,
   "metadata": {},
   "outputs": [],
   "source": []
  },
  {
   "cell_type": "code",
   "execution_count": null,
   "metadata": {},
   "outputs": [],
   "source": []
  },
  {
   "cell_type": "code",
   "execution_count": null,
   "metadata": {},
   "outputs": [],
   "source": []
  },
  {
   "cell_type": "code",
   "execution_count": null,
   "metadata": {},
   "outputs": [],
   "source": []
  },
  {
   "cell_type": "markdown",
   "metadata": {},
   "source": [
    "# Bibliography\n",
    "\n",
    "Task 1\n",
    "Newtons Method\n",
    "\n",
    "[1] Linuxhint, How to use latex in Jupyter Notebook, 2021, https://linuxhint.com/use-latex-jupyter-notebook/\n",
    "\n",
    "[2] Patrick Walls Github, 2022 https://patrickwalls.github.io/mathematicalpython/jupyter/latex/ & https://github.com/patrickwalls/mathematicalpython/blob/master/notebooks/jupyter/latex.ipynb\n",
    "\n",
    "[3] StackOverflow, Centering Text in IPython notebook markdown/heading cells?, 2013 https://stackoverflow.com/questions/18575012/centering-text-in-ipython-notebook-markdown-heading-cells\n",
    "\n",
    "[4] Maths and Equations, Jupyterbook.org, 2022, https://jupyterbook.org/en/stable/content/math.html\n",
    "\n",
    "[5] MyST Markedly Structured Text, Sept 20 2023, https://myst-parser.readthedocs.io/en/latest/syntax/optional.html#syntax-amsmath \n",
    "\n",
    "[6] Splash Learn, What Are Square and Square Roots?, https://www.splashlearn.com/math-vocabulary/algebra/square-and-square-roots#:~:text=The%20square%20root%20of%20a,themselves%2C%20give%20the%20product%2025.\n",
    "\n",
    "[7] UT Calculus, Department of Mathematics at UT Austin, https://web.ma.utexas.edu/users/m408n/CurrentWeb/LM4-8-2.php#:~:text=Newton's%20method%20is%20a%20technique,a%20new%20(and%20improved!)\n",
    "\n",
    "[8] Enterprise DNA Blog, Python ** Explained (Double Star or Double Asterix),  https://blog.enterprisedna.co/what-does-double-star-mean-in-python/#:~:text=The%20double%20star%20operator%2C%20denoted,calls%20to%20unpack%20keyword%20arguments.\n",
    "\n",
    "[9] Real Python, The Python Square Root Function, July 08 2019, https://realpython.com/python-square-root-function/\n",
    "\n",
    "[10] Medium.com, Python program to find square root of the number using Newton’s method, 2021 https://thirumalai2024.medium.com/\n",
    "python-program-to-find-square-root-of-the-number-using-newtons-method-937c0e732756 \n",
    "\n",
    "[11] Geeks for Geeks, Newton Raphson Method, 4th July 2023  https://www.geeksforgeeks.org/newton-raphson-method/ \n",
    "\n",
    "[12] Computing Skills Set, 11 Highly Instructive Examples for the Newton Raphson Method, https://computingskillset.com/solving-equations/highly-instructive-examples-for-the-newton-raphson-method/ \n",
    "\n",
    "[13] Newton's Method, PatrickMJT, Youtube 2013, https://www.youtube.com/watch?v=1uN8cBGVpfs \n",
    "\n",
    "[13] Kahn Academy, Convergent and divergent sequences https://www.khanacademy.org/math/calculus-2/cs2-series/cs2-convergent-and-divergent-infinite-series/v/convergent-and-divergent-sequences \n",
    "\n",
    "[14] Kahn Academy, Derivatives: definition and basic rules, https://www.khanacademy.org/math/differential-calculus/dc-diff-intro#:~:text=The%20derivative%20of%20a%20function,function's%20graph%20at%20that%20point.\n",
    "\n",
    "\n",
    "Chi-Squared\n",
    "\n",
    "[15] SimpliLearn, What is a Chi-Square Test? Formula, Examples & Application, Oct 11th 2023, https://www.simplilearn.com/tutorials/statistics-tutorial/chi-square-test \n",
    "\n",
    "[16] CueMath, Chi Square Formula,  https://www.cuemath.com/chi-square-formula/\n",
    "\n",
    "[17] Statistics by Jim, Null Hypothesis: Definition, Rejecting & Examples, 2023 https://statisticsbyjim.com/hypothesis-testing/null-hypothesis/ \n",
    "\n",
    "[18] JMP, Chi-Square Goodness of Fit Test, 2023, https://www.jmp.com/en_be/statistics-knowledge-portal/chi-square-test/\n",
    "chi-square-goodness-of-fit-test.html \n",
    "\n",
    "[19] JMP, Chi-Square Test of Independence, 2023  https://www.jmp.com/en_be/statistics-knowledge-portal/chi-square-test/chi-square-test-of-independence.html \n",
    "\n",
    "[20] JMP, The Chi-Square Test, 2023, https://www.jmp.com/en_be/statistics-knowledge-portal/chi-square-test.html \n",
    "\n",
    "[21] Statistics.com, Contingency Table, https://www.statistics.com/glossary/contingency-table/#:~:text=A%20contingency%20table%20is%20a,exclusive%20combination%20of%20X%2DY%20values. \n",
    "\n",
    "[22] Henry County Schools, Discrete and Continuous Random Variableshttps://www.henry.k12.ga.us/ugh/apstat/chapternotes/7supplement.html#:~:text=A%20discrete%20variable%20is%20a,red%20marbles%20in%20a%20jar \n",
    "\n",
    "[23] Khan Academy,  Contingency table chi-square test, https://www.khanacademy.org/math/statistics-probability/inference-categorical-data-chi-square-tests/chi-square-tests-for-homogeneity-and-association-independence/v/contingency-table-chi-square-test \n",
    "\n",
    "[24] StackOverflow, understanding scipy.stats.chisquare, 2021 https://stackoverflow.com/questions/64669448/understanding-scipy-stats-chisquare \n",
    "\n",
    "[25] scipy.org,  scipy.stats.chi2_contingency, 2008- 2023 https://docs.scipy.org/doc/scipy/reference/generated/scipy.stats.chi2_contingency.html \n",
    "\n",
    "[26] Visual Design, An Interactive Guide to Hypothesis Testing in Python, jun 12th, 2022 https://www.visual-design.net/post/an-interactive-guide-to-hypothesis-testing-in-python#:~:text=The%20significance%20level%20is%20a,the%20null%20hypothesis%20is%20true. \n",
    "\n",
    "[27] CueMath, Chi Square Formula,  https://www.cuemath.com/chi-square-formula/ \n",
    "\n",
    "\n",
    "t-test\n",
    "\n",
    "[]\n"
   ]
  },
  {
   "cell_type": "markdown",
   "metadata": {},
   "source": []
  },
  {
   "cell_type": "markdown",
   "metadata": {},
   "source": []
  },
  {
   "cell_type": "markdown",
   "metadata": {},
   "source": []
  }
 ],
 "metadata": {
  "kernelspec": {
   "display_name": "base",
   "language": "python",
   "name": "python3"
  },
  "language_info": {
   "codemirror_mode": {
    "name": "ipython",
    "version": 3
   },
   "file_extension": ".py",
   "mimetype": "text/x-python",
   "name": "python",
   "nbconvert_exporter": "python",
   "pygments_lexer": "ipython3",
   "version": "3.11.5"
  },
  "orig_nbformat": 4
 },
 "nbformat": 4,
 "nbformat_minor": 2
}
