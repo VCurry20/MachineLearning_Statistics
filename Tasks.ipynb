{
 "cells": [
  {
   "cell_type": "markdown",
   "metadata": {},
   "source": [
    "# Task Sheets\n",
    "\n",
    "Biweekly Task Sheet Submissions - Machine Learning and Statistics - Winter 2023 / 2024\n",
    "\n",
    "Lecturer Ian McLoughlin\n",
    "\n",
    "Task Sheet PDFs included in Supporting Data Folder\n",
    "\n",
    "***\n"
   ]
  },
  {
   "cell_type": "markdown",
   "metadata": {},
   "source": [
    "add in links to each task sheet"
   ]
  },
  {
   "cell_type": "markdown",
   "metadata": {},
   "source": [
    "***\n",
    "\n",
    "<br/>\n",
    "\n",
    "<h2><center> Task Sheet 1 </center></h2>\n",
    "\n",
    "    "
   ]
  },
  {
   "cell_type": "markdown",
   "metadata": {},
   "source": [
    "### Question 1\n",
    "\n",
    "Newtons Method\n",
    "\n",
    "> Write a function $ sqrt (x) $ to approximate the square root of a floating point number $ x $ without using the power operator or a package.\n",
    "\n",
    "> Rather you should use Newton's method. Start with an initial guess for the square root called $ z_{0} $. You then repeatly improve it using the folowing formula, until the difference between a previous guess $ z_{i} $ and the next $ z_{i + 1} $ is less than some threshold for example 0.01.\n",
    "\n",
    "\n",
    "$$\n",
    "  z_{i + 1}  =  z_{i} - \\frac{ \\ z_{i}  *  z_{i} - x }{ 2z_{i} }\n",
    "$$\n",
    "\n",
    "\n",
    "<br/>\n",
    "\n",
    "\n",
    "T1 Q1 Links:\n",
    "\n",
    "[Go Programming language](https://go.dev/tour/welcome/1)\n",
    "\n",
    "[Loops and Functions in Go](https://go.dev/tour/flowcontrol/8)\n",
    "\n",
    "[Newton Sq Rt](https://math.mit.edu/~stevenj/18.335/newton-sqrt.pdf)\n",
    "\n",
    "\n",
    "[1][2][3][4][5]"
   ]
  },
  {
   "cell_type": "markdown",
   "metadata": {},
   "source": [
    "To test our function we will use test data - we will use data where we know the outcome and test that the program finds this answer.\n",
    "\n",
    "A Square root of a number is a value that when multipled by itself will give the original number. [6]\n",
    "\n",
    "Newtons Function asks us to start with a guess point and when the function is run repeatedly we get the result. As outlined in UT Calculus; \"In typical situations, Newton's method homes in on the answer extremely quickly, roughly doubling the number of decimal points in each round. So if your original guess is good to one decimal place, 5 rounds later you will have an answer good to 30+ digits.\" [7]\n",
    "\n",
    "Test Variables: To test the function we will look for the square root of 16, which we know to be 4. As as starting point we will guess 2 to be the correct answer. Using these variables / parameters we will run the function.\n",
    "\n",
    "Once we have confirmed that our function is working correctly and we have tested it we can then change variables and use it to calculate the square root of other numbers."
   ]
  },
  {
   "cell_type": "code",
   "execution_count": 2,
   "metadata": {},
   "outputs": [
    {
     "data": {
      "text/plain": [
       "4.0"
      ]
     },
     "execution_count": 2,
     "metadata": {},
     "output_type": "execute_result"
    }
   ],
   "source": [
    "# Alternative Options to Newtons Method:\n",
    "\n",
    "# python will allow you to work out the Square Root as following -\n",
    "\n",
    "16 ** 0.5\n",
    "\n",
    "\n",
    "# in this instance we are raising 16 to the power of 0.5 \n",
    "\n",
    "# [8]"
   ]
  },
  {
   "cell_type": "code",
   "execution_count": 3,
   "metadata": {},
   "outputs": [
    {
     "data": {
      "text/plain": [
       "4.0"
      ]
     },
     "execution_count": 3,
     "metadata": {},
     "output_type": "execute_result"
    }
   ],
   "source": [
    "# Using Python Packages this can also be achieve by the following:\n",
    "import math\n",
    "\n",
    "# square root of the number 16\n",
    "math.sqrt(16) \n",
    "\n",
    "# for this page you cannot use a negative number - these will always be positive numbers\n",
    "# however for this Question we are using Newtons Method as opposed to power operators or packages.\n",
    "\n",
    "# [9]"
   ]
  },
  {
   "cell_type": "markdown",
   "metadata": {},
   "source": [
    "We will now plot the Equation - inputting our variables"
   ]
  },
  {
   "cell_type": "code",
   "execution_count": 4,
   "metadata": {},
   "outputs": [],
   "source": [
    "# Set x  - the number we want to calculate the square root of\n",
    "\n",
    "x = 16"
   ]
  },
  {
   "cell_type": "code",
   "execution_count": 5,
   "metadata": {},
   "outputs": [],
   "source": [
    "# Set z - this number is our initial guess or starting point for what we think the square root could be\n",
    "\n",
    "z = 2.0\n",
    "\n",
    "# note we are setting this as a floating number\n",
    "# unless the Square root is a full number, or perfect square, outcomes will be a floating point"
   ]
  },
  {
   "cell_type": "code",
   "execution_count": 6,
   "metadata": {},
   "outputs": [
    {
     "data": {
      "text/plain": [
       "5.0"
      ]
     },
     "execution_count": 6,
     "metadata": {},
     "output_type": "execute_result"
    }
   ],
   "source": [
    "# First Appoximation\n",
    "\n",
    "\n",
    "znext = z - (((z * z) - x) / ( 2*z )) \n",
    "\n",
    "# setting a variable called znext - or our next guess\n",
    "# using Newtons formula above write a formula in Python\n",
    "# note 2z is written as 2*z in Python\n",
    "# precendence operators - ensures that multiplication before subtraction\n",
    "\n",
    "# znext equals, z minus the results of z multiplied by z minus x, divided by 2z (z * 2)\n",
    "\n",
    "znext\n",
    "\n",
    "# print znext"
   ]
  },
  {
   "cell_type": "markdown",
   "metadata": {},
   "source": [
    "Evaluation of first run:\n",
    "\n",
    "Is 5.0 a better approximation?\n",
    "\n",
    "Yes, 2 is 2 units away from 4, where as 5 is 1 unit away.\n",
    "\n",
    "Continuing to run this formula and you will get you closer to the required number 4. This shows the repeating nature of this formula and its importance in Machine Learning - this formula will more accurate with each time it is run further writing full functions will allow for us to set it to run with a error margain and also a maximum number of iterations."
   ]
  },
  {
   "cell_type": "code",
   "execution_count": 7,
   "metadata": {},
   "outputs": [],
   "source": [
    "# Write a formula to complete this process in one instance\n",
    "# the following is a version of Newton's method where we set the number of times where the funcion will run - 100 times\n",
    "\n",
    "def sqrt(x):\n",
    "    # initial guess for the sq rt\n",
    "    z = x / 4.0\n",
    "    # iteration is used in this function - this function is run 100 times - this can be set as a variable and run any number of times\n",
    "    for i in range(100):\n",
    "        # Newton's method for a better approximation.\n",
    "        z - (((z * z) - x) / ( 2*z )) \n",
    "\n",
    "\n",
    "    return z\n"
   ]
  },
  {
   "cell_type": "code",
   "execution_count": 8,
   "metadata": {},
   "outputs": [
    {
     "data": {
      "text/plain": [
       "4.0"
      ]
     },
     "execution_count": 8,
     "metadata": {},
     "output_type": "execute_result"
    }
   ],
   "source": [
    "# run the above function\n",
    "\n",
    "sqrt(16)"
   ]
  },
  {
   "cell_type": "markdown",
   "metadata": {},
   "source": [
    "In the above method we are using iteraiton and setting the number of times the function will run, in this instance we have set this for 100. What if we have a  number where to get the correct value we need to run the function 101 times?\n",
    "\n",
    "There for a while loop which would complete evaluations and continue to run while conditions are being met is a better version."
   ]
  },
  {
   "cell_type": "code",
   "execution_count": 14,
   "metadata": {},
   "outputs": [],
   "source": [
    "# here we use a while loop to continue to fun the formula while conditions are being met\n",
    "# We use both an approximate as a starting point and then incoropating the better guess from each time the code is run\n",
    "\n",
    "def while_sqrt(n):\n",
    "    approx=0.5*n\n",
    "    better=0.5*(approx+n/approx)\n",
    "    while better!=approx:\n",
    "        approx=better\n",
    "        better=0.5*(approx+n/approx)\n",
    "    return approx\n",
    "\n",
    "\n",
    "\n",
    "# [10]"
   ]
  },
  {
   "cell_type": "code",
   "execution_count": 15,
   "metadata": {},
   "outputs": [
    {
     "data": {
      "text/plain": [
       "4.0"
      ]
     },
     "execution_count": 15,
     "metadata": {},
     "output_type": "execute_result"
    }
   ],
   "source": [
    "# run the above function on our test number 16\n",
    "\n",
    "while_sqrt(16)"
   ]
  },
  {
   "cell_type": "code",
   "execution_count": 16,
   "metadata": {},
   "outputs": [
    {
     "data": {
      "text/plain": [
       "1.414213562373095"
      ]
     },
     "execution_count": 16,
     "metadata": {},
     "output_type": "execute_result"
    }
   ],
   "source": [
    "while_sqrt(2)"
   ]
  },
  {
   "cell_type": "markdown",
   "metadata": {},
   "source": [
    "<img src=\"C:\\Users\\V\\Repo\\MachineLearning_Statistics\\Supporting Data\\Images\" alt=\"Alternative text\" />"
   ]
  },
  {
   "cell_type": "markdown",
   "metadata": {},
   "source": [
    "Notes / observations from Question 1:\n",
    "\n",
    "\n",
    "\n",
    "\n",
    "1. the method is not efficient to calculate the roots of the polynomials or equations with higher degrees but in the case of small-degree equations, this method yields very quick results. I\n",
    "https://www.geeksforgeeks.org/newton-raphson-method/\n",
    "\n",
    "2. deivatives instandeous rate of change - change in x approaches 0 - iterate through formula to get 0 - \n",
    "\n",
    "<br/>\n",
    "\n"
   ]
  },
  {
   "cell_type": "markdown",
   "metadata": {},
   "source": [
    "### Question 2\n",
    "\n",
    "Chi-squared\n",
    "\n",
    "> Consider a contingency table, based on a survey asking preferences between coffee or tea, and plain & chocolate biscuits.\n",
    "\n",
    "> Use scipy.stats to perform a chi-squared test to see whether there is any evidence of an assocciation between drink preference and biscuit preference.\n",
    "\n",
    "\n",
    "              \n",
    "\n",
    "|             | *biscuits* Chocolate  | Plain   |\n",
    "| -:| -: | -: |\n",
    "| *Drink* Coffee|        43  |      57 |\n",
    "|       Tea   |        56  |      45 |\n",
    "\n",
    "\n",
    "<br/>\n",
    "\n",
    "\n",
    "\n",
    "<br/>\n",
    "\n",
    "\n",
    "T1 Q2 Links:\n",
    "\n"
   ]
  },
  {
   "cell_type": "code",
   "execution_count": 11,
   "metadata": {},
   "outputs": [
    {
     "name": "stdout",
     "output_type": "stream",
     "text": [
      "chi2 statistic:     24.571\n",
      "p-value:            0.00040984\n",
      "degrees of freedom: 6\n",
      "expected frequencies:\n",
      "[[ 80.53846154  80.53846154 107.38461538  80.53846154]\n",
      " [ 34.84615385  34.84615385  46.46153846  34.84615385]\n",
      " [ 34.61538462  34.61538462  46.15384615  34.61538462]]\n"
     ]
    }
   ],
   "source": [
    "import numpy as np\n",
    "from scipy.stats import chi2_contingency\n",
    "\n",
    "\n",
    "table = np.array([[90, 60, 104, 95],\n",
    "                  [30, 50,  51, 20],\n",
    "                  [30, 40,  45, 35]])\n",
    "\n",
    "chi2, p, dof, expected = chi2_contingency(table)\n",
    "\n",
    "print(f\"chi2 statistic:     {chi2:.5g}\")\n",
    "print(f\"p-value:            {p:.5g}\")\n",
    "print(f\"degrees of freedom: {dof}\")\n",
    "print(\"expected frequencies:\")\n",
    "print(expected)"
   ]
  },
  {
   "cell_type": "code",
   "execution_count": 12,
   "metadata": {},
   "outputs": [
    {
     "name": "stdout",
     "output_type": "stream",
     "text": [
      "chi2 statistic:     2.6359\n",
      "p-value:            0.10447\n",
      "degrees of freedom: 1\n",
      "expected frequencies:\n",
      "[[49.25373134 50.74626866]\n",
      " [49.74626866 51.25373134]]\n"
     ]
    }
   ],
   "source": [
    "import numpy as np\n",
    "from scipy.stats import chi2_contingency\n",
    "\n",
    "\n",
    "table = np.array([[43, 57],\n",
    "                  [56, 45]])\n",
    "\n",
    "chi2, p, dof, expected = chi2_contingency(table)\n",
    "\n",
    "print(f\"chi2 statistic:     {chi2:.5g}\")\n",
    "print(f\"p-value:            {p:.5g}\")\n",
    "print(f\"degrees of freedom: {dof}\")\n",
    "print(\"expected frequencies:\")\n",
    "print(expected)"
   ]
  },
  {
   "cell_type": "code",
   "execution_count": null,
   "metadata": {},
   "outputs": [],
   "source": []
  },
  {
   "cell_type": "code",
   "execution_count": null,
   "metadata": {},
   "outputs": [],
   "source": []
  },
  {
   "cell_type": "code",
   "execution_count": null,
   "metadata": {},
   "outputs": [],
   "source": []
  },
  {
   "cell_type": "code",
   "execution_count": null,
   "metadata": {},
   "outputs": [],
   "source": []
  },
  {
   "cell_type": "markdown",
   "metadata": {},
   "source": [
    "# Bibliography\n",
    "\n",
    "[]\n",
    "\n",
    "[] Linuxhint, How to use latex in Jupyter Notebook, 2021, https://linuxhint.com/use-latex-jupyter-notebook/\n",
    "\n",
    "[] Patrick Walls Github, 2022 https://patrickwalls.github.io/mathematicalpython/jupyter/latex/ & https://github.com/patrickwalls/mathematicalpython/blob/master/notebooks/jupyter/latex.ipynb\n",
    "\n",
    "\n",
    "## Task 1 Newtons Method\n",
    "\n",
    "[1] StackOverflow, Centering Text in IPython notebook markdown/heading cells?, 2013 https://stackoverflow.com/questions/18575012/centering-text-in-ipython-notebook-markdown-heading-cells\n",
    "\n",
    "[2] Maths and Equations, Jupyterbook.org, 2022, https://jupyterbook.org/en/stable/content/math.html\n",
    "\n",
    "[3] MyST Markedly Structured Text, Sept 20 2023, https://myst-parser.readthedocs.io/en/latest/syntax/optional.html#syntax-amsmath \n",
    "\n",
    "[4] Real Python, The Python Square Root Function, July 08 2019, https://realpython.com/python-square-root-function/\n",
    "\n",
    "[5] Splash Learn, What Are Square and Square Roots?, https://www.splashlearn.com/math-vocabulary/algebra/square-and-square-roots#:~:text=The%20square%20root%20of%20a,themselves%2C%20give%20the%20product%2025.\n",
    "\n",
    "[] UT Calcalas, Department of Mathematices at UT Austin, https://web.ma.utexas.edu/users/m408n/CurrentWeb/LM4-8-2.php#:~:text=Newton's%20method%20is%20a%20technique,a%20new%20(and%20improved!)\n",
    "\n",
    "[] Enterprise DNA Blog, Python ** Explained (Double Star or Double Asterix),  https://blog.enterprisedna.co/what-does-double-star-mean-in-python/#:~:text=The%20double%20star%20operator%2C%20denoted,calls%20to%20unpack%20keyword%20arguments.\n",
    "\n",
    "[] Medium.com, Python program to find square root of the number using Newton’s method, 2021 https://thirumalai2024.medium.com/python-program-to-find-square-root-of-the-number-using-newtons-method-937c0e732756\n",
    "\n",
    "[1] Newtons Method in Python, Studysession, 2021, https://www.youtube.com/watch?v=99ABkygm2Xg\n",
    "\n",
    "[]\n",
    "\n",
    "[]"
   ]
  }
 ],
 "metadata": {
  "kernelspec": {
   "display_name": "base",
   "language": "python",
   "name": "python3"
  },
  "language_info": {
   "codemirror_mode": {
    "name": "ipython",
    "version": 3
   },
   "file_extension": ".py",
   "mimetype": "text/x-python",
   "name": "python",
   "nbconvert_exporter": "python",
   "pygments_lexer": "ipython3",
   "version": "3.11.5"
  },
  "orig_nbformat": 4
 },
 "nbformat": 4,
 "nbformat_minor": 2
}
