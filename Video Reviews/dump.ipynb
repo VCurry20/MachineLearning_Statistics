{
 "cells": [
  {
   "cell_type": "code",
   "execution_count": null,
   "metadata": {},
   "outputs": [],
   "source": [
    "# https://matplotlib.org/stable/gallery/statistics/histogram_cumulative.html"
   ]
  },
  {
   "cell_type": "code",
   "execution_count": null,
   "metadata": {},
   "outputs": [],
   "source": [
    "import matplotlib.pyplot as plt\n",
    "import numpy as np\n",
    "\n",
    "np.random.seed(19680801)\n",
    "\n",
    "mu = 200\n",
    "sigma = 25\n",
    "n_bins = 25\n",
    "data = np.random.normal(mu, sigma, size=100)\n",
    "\n",
    "fig = plt.figure(figsize=(9, 4), layout=\"constrained\")\n",
    "axs = fig.subplots(1, 2, sharex=True, sharey=True)\n",
    "\n",
    "# Cumulative distributions.\n",
    "axs[0].ecdf(data, label=\"CDF\")\n",
    "n, bins, patches = axs[0].hist(data, n_bins, density=True, histtype=\"step\",\n",
    "                               cumulative=True, label=\"Cumulative histogram\")\n",
    "x = np.linspace(data.min(), data.max())\n",
    "y = ((1 / (np.sqrt(2 * np.pi) * sigma)) *\n",
    "     np.exp(-0.5 * (1 / sigma * (x - mu))**2))\n",
    "y = y.cumsum()\n",
    "y /= y[-1]\n",
    "axs[0].plot(x, y, \"k--\", linewidth=1.5, label=\"Theory\")\n",
    "\n",
    "# Complementary cumulative distributions.\n",
    "axs[1].ecdf(data, complementary=True, label=\"CCDF\")\n",
    "axs[1].hist(data, bins=bins, density=True, histtype=\"step\", cumulative=-1,\n",
    "            label=\"Reversed cumulative histogram\")\n",
    "axs[1].plot(x, 1 - y, \"k--\", linewidth=1.5, label=\"Theory\")\n",
    "\n",
    "# Label the figure.\n",
    "fig.suptitle(\"Cumulative distributions\")\n",
    "for ax in axs:\n",
    "    ax.grid(True)\n",
    "    ax.legend()\n",
    "    ax.set_xlabel(\"Annual rainfall (mm)\")\n",
    "    ax.set_ylabel(\"Probability of occurrence\")\n",
    "    ax.label_outer()\n",
    "\n",
    "plt.show()"
   ]
  },
  {
   "cell_type": "code",
   "execution_count": null,
   "metadata": {},
   "outputs": [],
   "source": []
  },
  {
   "cell_type": "code",
   "execution_count": null,
   "metadata": {},
   "outputs": [],
   "source": []
  },
  {
   "cell_type": "code",
   "execution_count": null,
   "metadata": {},
   "outputs": [],
   "source": []
  }
 ],
 "metadata": {
  "language_info": {
   "name": "python"
  }
 },
 "nbformat": 4,
 "nbformat_minor": 2
}
